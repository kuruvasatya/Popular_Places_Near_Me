{
  "nbformat": 4,
  "nbformat_minor": 0,
  "metadata": {
    "colab": {
      "name": "gihubPopularLocation.ipynb",
      "provenance": [],
      "collapsed_sections": [
        "wZdJy6CfKrKu",
        "J25F1VevKph9"
      ],
      "toc_visible": true
    },
    "kernelspec": {
      "name": "python3",
      "display_name": "Python 3"
    },
    "accelerator": "GPU"
  },
  "cells": [
    {
      "cell_type": "markdown",
      "metadata": {
        "id": "wZdJy6CfKrKu",
        "colab_type": "text"
      },
      "source": [
        "# ***1. Importing Essential Libraries***"
      ]
    },
    {
      "cell_type": "code",
      "metadata": {
        "id": "owQdXoU5KoAS",
        "colab_type": "code",
        "colab": {}
      },
      "source": [
        "import pandas as pd # for data processing\n",
        "import folium #for creating maps\n",
        "import requests #for retreiving Information\n",
        "from geopy.geocoders import Nominatim #converting address to cordinates\n",
        "from pandas.io.json import json_normalize #converting json to DataFrame "
      ],
      "execution_count": 0,
      "outputs": []
    },
    {
      "cell_type": "markdown",
      "metadata": {
        "id": "J25F1VevKph9",
        "colab_type": "text"
      },
      "source": [
        "# 2. Saving Creditials of API using (Ex yelp,google places) ( personal to user)"
      ]
    },
    {
      "cell_type": "code",
      "metadata": {
        "id": "pObvYnEkMS9Y",
        "colab_type": "code",
        "colab": {}
      },
      "source": [
        "## This is not personal and can not be made private\n",
        "## get the api key from the provideres"
      ],
      "execution_count": 0,
      "outputs": []
    },
    {
      "cell_type": "markdown",
      "metadata": {
        "id": "geVeU6TnMc64",
        "colab_type": "text"
      },
      "source": [
        "# ***3. Reading the address from user***"
      ]
    },
    {
      "cell_type": "code",
      "metadata": {
        "id": "YxVosBerNNuY",
        "colab_type": "code",
        "outputId": "c1f77329-423f-4930-dcaa-c0b1b8f56cd9",
        "colab": {
          "base_uri": "https://localhost:8080/",
          "height": 125
        }
      },
      "source": [
        "address = input(\"Enter address : \")\n",
        "pincode = input(\"Enter postal code : \")\n",
        "\n",
        "geolocator = Nominatim(user_agent=\"foursquare_agent\")\n",
        "location = geolocator.geocode(address)\n",
        "if(location == None):\n",
        "    location = geolocator.geocode(pincode)\n",
        "    if(location == None):\n",
        "        print(\"Address not Found............\")\n",
        "    else:\n",
        "        print(location)\n",
        "else:\n",
        "    print(location)\n",
        "    truth = input(\"Is this address nearly accurate.....(y/n) : \")\n",
        "    if truth == 'n' or truth =='N':\n",
        "        print(\"searching based on pincode .........\")\n",
        "        location = geolocator.geocode(pincode)\n",
        "        if(location == None):\n",
        "            print(\"No location found based on pincode..\")\n",
        "        else:    \n",
        "            print(location)\n",
        "latitude = location.latitude\n",
        "longitude = location.longitude\n",
        "print(latitude,longitude)"
      ],
      "execution_count": 0,
      "outputs": [
        {
          "output_type": "stream",
          "text": [
            "Enter address : VR Bengaluru\n",
            "Enter postal code : 568646\n",
            "VR Bengaluru, 3rd Main Road, Justice Bheemiah Layout, Devasandra, Mahadevapura Zone, Bengaluru, Bangalore East, Bangalore Urban, Karnataka, 560048, India\n",
            "Is this address nearly accurate.....(y/n) : y\n",
            "12.9963426 77.6954215\n"
          ],
          "name": "stdout"
        }
      ]
    },
    {
      "cell_type": "markdown",
      "metadata": {
        "id": "yqepyXA2T-WK",
        "colab_type": "text"
      },
      "source": [
        "# ***4. Retreiving the Data***\n"
      ]
    },
    {
      "cell_type": "code",
      "metadata": {
        "id": "nZ8E0DmdNbbg",
        "colab_type": "code",
        "colab": {}
      },
      "source": [
        "radius = input(\"Enter the radius for searching : \")\n",
        "Limit = input(\"enter the Limit for Results to display : \")\n",
        "url = #url provided by your providers\n",
        "url"
      ],
      "execution_count": 0,
      "outputs": []
    },
    {
      "cell_type": "code",
      "metadata": {
        "id": "cwrrTeKgUWrj",
        "colab_type": "code",
        "outputId": "02306d38-d493-4af4-a500-03eeddb81aeb",
        "colab": {
          "base_uri": "https://localhost:8080/",
          "height": 457
        }
      },
      "source": [
        "results = requests.get(url).json()\n",
        "results\n",
        "items = results['response']['groups'][0]['items']\n",
        "items[0]"
      ],
      "execution_count": 0,
      "outputs": [
        {
          "output_type": "execute_result",
          "data": {
            "text/plain": [
              "{'reasons': {'count': 0,\n",
              "  'items': [{'reasonName': 'globalInteractionReason',\n",
              "    'summary': 'This spot is popular',\n",
              "    'type': 'general'}]},\n",
              " 'referralId': 'e-0-53f1cc33498e0e419065fefb-0',\n",
              " 'venue': {'categories': [{'icon': {'prefix': 'https://ss3.4sqi.net/img/categories_v2/food/creperie_',\n",
              "     'suffix': '.png'},\n",
              "    'id': '52e81612bcbc57f1066b79f2',\n",
              "    'name': 'Creperie',\n",
              "    'pluralName': 'Creperies',\n",
              "    'primary': True,\n",
              "    'shortName': 'Creperie'}],\n",
              "  'id': '53f1cc33498e0e419065fefb',\n",
              "  'location': {'address': 'Phoenix Market City',\n",
              "   'cc': 'IN',\n",
              "   'country': 'India',\n",
              "   'distance': 182,\n",
              "   'formattedAddress': ['Phoenix Market City', 'India'],\n",
              "   'labeledLatLngs': [{'label': 'display',\n",
              "     'lat': 12.997361986513575,\n",
              "     'lng': 77.69674382065826}],\n",
              "   'lat': 12.997361986513575,\n",
              "   'lng': 77.69674382065826},\n",
              "  'name': 'BelgYum',\n",
              "  'photos': {'count': 0, 'groups': []}}}"
            ]
          },
          "metadata": {
            "tags": []
          },
          "execution_count": 33
        }
      ]
    },
    {
      "cell_type": "code",
      "metadata": {
        "id": "A4JvdeagV72R",
        "colab_type": "code",
        "colab": {}
      },
      "source": [
        "def get_category_type(row):\n",
        "    try:\n",
        "        categories_list = row['categories']\n",
        "    except:\n",
        "        categories_list = row['venue.categories']\n",
        "        \n",
        "    if len(categories_list) == 0:\n",
        "        return None\n",
        "    else:\n",
        "        return categories_list[0]['name']"
      ],
      "execution_count": 0,
      "outputs": []
    },
    {
      "cell_type": "code",
      "metadata": {
        "id": "9ZvcnnufXP-z",
        "colab_type": "code",
        "outputId": "50b7b09d-8e21-4c1a-9518-dd539f6bfd62",
        "colab": {
          "base_uri": "https://localhost:8080/",
          "height": 701
        }
      },
      "source": [
        "dataframe = json_normalize(items) # flatten JSON\n",
        "dataframe\n",
        "# filter columns\n",
        "filtered_columns = ['venue.name', 'venue.categories'] + [col for col in dataframe.columns if col.startswith('venue.location.')] + ['venue.id']\n",
        "nearby = dataframe.loc[:, filtered_columns]\n",
        "\n",
        "# filter the category for each row\n",
        "nearby['venue.categories'] = nearby.apply(get_category_type, axis=1)\n",
        "\n",
        "# clean columns\n",
        "nearby.columns = [col.split('.')[-1] for col in nearby.columns]\n",
        "\n",
        "#replce NaN values with Not found in address\n",
        "nearby['address'] = nearby['address'].fillna(\"Not found\")\n",
        "nearby.head(10)"
      ],
      "execution_count": 0,
      "outputs": [
        {
          "output_type": "stream",
          "text": [
            "/usr/local/lib/python3.6/dist-packages/ipykernel_launcher.py:1: FutureWarning: pandas.io.json.json_normalize is deprecated, use pandas.json_normalize instead\n",
            "  \"\"\"Entry point for launching an IPython kernel.\n"
          ],
          "name": "stderr"
        },
        {
          "output_type": "execute_result",
          "data": {
            "text/html": [
              "<div>\n",
              "<style scoped>\n",
              "    .dataframe tbody tr th:only-of-type {\n",
              "        vertical-align: middle;\n",
              "    }\n",
              "\n",
              "    .dataframe tbody tr th {\n",
              "        vertical-align: top;\n",
              "    }\n",
              "\n",
              "    .dataframe thead th {\n",
              "        text-align: right;\n",
              "    }\n",
              "</style>\n",
              "<table border=\"1\" class=\"dataframe\">\n",
              "  <thead>\n",
              "    <tr style=\"text-align: right;\">\n",
              "      <th></th>\n",
              "      <th>name</th>\n",
              "      <th>categories</th>\n",
              "      <th>address</th>\n",
              "      <th>lat</th>\n",
              "      <th>lng</th>\n",
              "      <th>labeledLatLngs</th>\n",
              "      <th>distance</th>\n",
              "      <th>cc</th>\n",
              "      <th>country</th>\n",
              "      <th>formattedAddress</th>\n",
              "      <th>city</th>\n",
              "      <th>state</th>\n",
              "      <th>crossStreet</th>\n",
              "      <th>postalCode</th>\n",
              "      <th>neighborhood</th>\n",
              "      <th>id</th>\n",
              "    </tr>\n",
              "  </thead>\n",
              "  <tbody>\n",
              "    <tr>\n",
              "      <th>0</th>\n",
              "      <td>BelgYum</td>\n",
              "      <td>Creperie</td>\n",
              "      <td>Phoenix Market City</td>\n",
              "      <td>12.997362</td>\n",
              "      <td>77.696744</td>\n",
              "      <td>[{'label': 'display', 'lat': 12.99736198651357...</td>\n",
              "      <td>182</td>\n",
              "      <td>IN</td>\n",
              "      <td>India</td>\n",
              "      <td>[Phoenix Market City, India]</td>\n",
              "      <td>NaN</td>\n",
              "      <td>NaN</td>\n",
              "      <td>NaN</td>\n",
              "      <td>NaN</td>\n",
              "      <td>NaN</td>\n",
              "      <td>53f1cc33498e0e419065fefb</td>\n",
              "    </tr>\n",
              "    <tr>\n",
              "      <th>1</th>\n",
              "      <td>Whitefield Social</td>\n",
              "      <td>Lounge</td>\n",
              "      <td>Not found</td>\n",
              "      <td>12.997343</td>\n",
              "      <td>77.696288</td>\n",
              "      <td>[{'label': 'display', 'lat': 12.99734264495814...</td>\n",
              "      <td>145</td>\n",
              "      <td>IN</td>\n",
              "      <td>India</td>\n",
              "      <td>[Bangalore, Karnātaka, India]</td>\n",
              "      <td>Bangalore</td>\n",
              "      <td>Karnātaka</td>\n",
              "      <td>NaN</td>\n",
              "      <td>NaN</td>\n",
              "      <td>NaN</td>\n",
              "      <td>5662f272498eac2dc526e83a</td>\n",
              "    </tr>\n",
              "    <tr>\n",
              "      <th>2</th>\n",
              "      <td>PVR IMAX VR Bangalore</td>\n",
              "      <td>Movie Theater</td>\n",
              "      <td>Not found</td>\n",
              "      <td>12.996194</td>\n",
              "      <td>77.695363</td>\n",
              "      <td>[{'label': 'display', 'lat': 12.99619430368990...</td>\n",
              "      <td>17</td>\n",
              "      <td>IN</td>\n",
              "      <td>India</td>\n",
              "      <td>[Bangalore, Karnātaka, India]</td>\n",
              "      <td>Bangalore</td>\n",
              "      <td>Karnātaka</td>\n",
              "      <td>NaN</td>\n",
              "      <td>NaN</td>\n",
              "      <td>NaN</td>\n",
              "      <td>568653a2498e14934d6314a7</td>\n",
              "    </tr>\n",
              "    <tr>\n",
              "      <th>3</th>\n",
              "      <td>VR Bengaluru</td>\n",
              "      <td>Shopping Mall</td>\n",
              "      <td>Not found</td>\n",
              "      <td>12.996095</td>\n",
              "      <td>77.695393</td>\n",
              "      <td>[{'label': 'display', 'lat': 12.99609462496371...</td>\n",
              "      <td>27</td>\n",
              "      <td>IN</td>\n",
              "      <td>India</td>\n",
              "      <td>[Bangalore, Karnātaka, India]</td>\n",
              "      <td>Bangalore</td>\n",
              "      <td>Karnātaka</td>\n",
              "      <td>NaN</td>\n",
              "      <td>NaN</td>\n",
              "      <td>NaN</td>\n",
              "      <td>56224801498ee4a64eaffcaa</td>\n",
              "    </tr>\n",
              "    <tr>\n",
              "      <th>4</th>\n",
              "      <td>Phoenix Marketcity</td>\n",
              "      <td>Shopping Mall</td>\n",
              "      <td>Whitefield Main Rd</td>\n",
              "      <td>12.997418</td>\n",
              "      <td>77.696559</td>\n",
              "      <td>[{'label': 'display', 'lat': 12.9974177, 'lng'...</td>\n",
              "      <td>171</td>\n",
              "      <td>IN</td>\n",
              "      <td>India</td>\n",
              "      <td>[Whitefield Main Rd (Mahadevapura), Krishnaraj...</td>\n",
              "      <td>Krishnarajapura</td>\n",
              "      <td>Karnātaka</td>\n",
              "      <td>Mahadevapura</td>\n",
              "      <td>560048</td>\n",
              "      <td>NaN</td>\n",
              "      <td>4ea2b2e7722ec75ade643f30</td>\n",
              "    </tr>\n",
              "    <tr>\n",
              "      <th>5</th>\n",
              "      <td>Toscano</td>\n",
              "      <td>Italian Restaurant</td>\n",
              "      <td>Not found</td>\n",
              "      <td>12.995942</td>\n",
              "      <td>77.695795</td>\n",
              "      <td>[{'label': 'display', 'lat': 12.99594191336187...</td>\n",
              "      <td>60</td>\n",
              "      <td>IN</td>\n",
              "      <td>India</td>\n",
              "      <td>[Bangalore, Karnātaka, India]</td>\n",
              "      <td>Bangalore</td>\n",
              "      <td>Karnātaka</td>\n",
              "      <td>NaN</td>\n",
              "      <td>NaN</td>\n",
              "      <td>NaN</td>\n",
              "      <td>57247410498e4345510ce8b7</td>\n",
              "    </tr>\n",
              "    <tr>\n",
              "      <th>6</th>\n",
              "      <td>Hamleys</td>\n",
              "      <td>Toy / Game Store</td>\n",
              "      <td>Phoenix Market City</td>\n",
              "      <td>12.997499</td>\n",
              "      <td>77.696655</td>\n",
              "      <td>[{'label': 'display', 'lat': 12.99749916089661...</td>\n",
              "      <td>185</td>\n",
              "      <td>IN</td>\n",
              "      <td>India</td>\n",
              "      <td>[Phoenix Market City (Whitefield Rd), Bangalor...</td>\n",
              "      <td>Bangalore</td>\n",
              "      <td>Karnātaka</td>\n",
              "      <td>Whitefield Rd</td>\n",
              "      <td>560048</td>\n",
              "      <td>NaN</td>\n",
              "      <td>5094dbc2e4b087ea434ca2ba</td>\n",
              "    </tr>\n",
              "    <tr>\n",
              "      <th>7</th>\n",
              "      <td>PVR Market City</td>\n",
              "      <td>Multiplex</td>\n",
              "      <td>The Phoenix Market City Mall</td>\n",
              "      <td>12.997531</td>\n",
              "      <td>77.695813</td>\n",
              "      <td>[{'label': 'display', 'lat': 12.99753093023634...</td>\n",
              "      <td>138</td>\n",
              "      <td>IN</td>\n",
              "      <td>India</td>\n",
              "      <td>[The Phoenix Market City Mall (Whitefield Main...</td>\n",
              "      <td>Bangalore</td>\n",
              "      <td>Karnātaka</td>\n",
              "      <td>Whitefield Main Rd, Mahadevapura Post</td>\n",
              "      <td>560048</td>\n",
              "      <td>NaN</td>\n",
              "      <td>51c1ddc4498e80f222edbfcb</td>\n",
              "    </tr>\n",
              "    <tr>\n",
              "      <th>8</th>\n",
              "      <td>Decathlon Sports India (DSI) HQ</td>\n",
              "      <td>Office</td>\n",
              "      <td>Xylem Building, ITPL Main Road, Whitefield</td>\n",
              "      <td>12.994772</td>\n",
              "      <td>77.701066</td>\n",
              "      <td>[{'label': 'display', 'lat': 12.99477232652780...</td>\n",
              "      <td>636</td>\n",
              "      <td>IN</td>\n",
              "      <td>India</td>\n",
              "      <td>[Xylem Building, ITPL Main Road, Whitefield, B...</td>\n",
              "      <td>Bangalore</td>\n",
              "      <td>Karnātaka</td>\n",
              "      <td>NaN</td>\n",
              "      <td>NaN</td>\n",
              "      <td>NaN</td>\n",
              "      <td>4ffd7b2ae4b0c07a15dc42b3</td>\n",
              "    </tr>\n",
              "    <tr>\n",
              "      <th>9</th>\n",
              "      <td>Decathlon</td>\n",
              "      <td>Sporting Goods Shop</td>\n",
              "      <td>Mahadevapura</td>\n",
              "      <td>12.994830</td>\n",
              "      <td>77.701010</td>\n",
              "      <td>[{'label': 'display', 'lat': 12.99482994819446...</td>\n",
              "      <td>629</td>\n",
              "      <td>IN</td>\n",
              "      <td>India</td>\n",
              "      <td>[Mahadevapura (ITPL Main Road), Bangalore 5600...</td>\n",
              "      <td>Bangalore</td>\n",
              "      <td>Karnātaka</td>\n",
              "      <td>ITPL Main Road</td>\n",
              "      <td>560048</td>\n",
              "      <td>NaN</td>\n",
              "      <td>511f882be4b07e642792e247</td>\n",
              "    </tr>\n",
              "  </tbody>\n",
              "</table>\n",
              "</div>"
            ],
            "text/plain": [
              "                              name  ...                        id\n",
              "0                          BelgYum  ...  53f1cc33498e0e419065fefb\n",
              "1                Whitefield Social  ...  5662f272498eac2dc526e83a\n",
              "2            PVR IMAX VR Bangalore  ...  568653a2498e14934d6314a7\n",
              "3                     VR Bengaluru  ...  56224801498ee4a64eaffcaa\n",
              "4               Phoenix Marketcity  ...  4ea2b2e7722ec75ade643f30\n",
              "5                          Toscano  ...  57247410498e4345510ce8b7\n",
              "6                          Hamleys  ...  5094dbc2e4b087ea434ca2ba\n",
              "7                  PVR Market City  ...  51c1ddc4498e80f222edbfcb\n",
              "8  Decathlon Sports India (DSI) HQ  ...  4ffd7b2ae4b0c07a15dc42b3\n",
              "9                        Decathlon  ...  511f882be4b07e642792e247\n",
              "\n",
              "[10 rows x 16 columns]"
            ]
          },
          "metadata": {
            "tags": []
          },
          "execution_count": 35
        }
      ]
    },
    {
      "cell_type": "code",
      "metadata": {
        "id": "gi1pCIISmSz8",
        "colab_type": "code",
        "outputId": "a043ca80-782d-4c08-ee70-23f4289a7708",
        "colab": {
          "base_uri": "https://localhost:8080/",
          "height": 716
        }
      },
      "source": [
        "nearby.head(10)"
      ],
      "execution_count": 0,
      "outputs": [
        {
          "output_type": "execute_result",
          "data": {
            "text/html": [
              "<div>\n",
              "<style scoped>\n",
              "    .dataframe tbody tr th:only-of-type {\n",
              "        vertical-align: middle;\n",
              "    }\n",
              "\n",
              "    .dataframe tbody tr th {\n",
              "        vertical-align: top;\n",
              "    }\n",
              "\n",
              "    .dataframe thead th {\n",
              "        text-align: right;\n",
              "    }\n",
              "</style>\n",
              "<table border=\"1\" class=\"dataframe\">\n",
              "  <thead>\n",
              "    <tr style=\"text-align: right;\">\n",
              "      <th></th>\n",
              "      <th>name</th>\n",
              "      <th>categories</th>\n",
              "      <th>address</th>\n",
              "      <th>crossStreet</th>\n",
              "      <th>lat</th>\n",
              "      <th>lng</th>\n",
              "      <th>labeledLatLngs</th>\n",
              "      <th>distance</th>\n",
              "      <th>postalCode</th>\n",
              "      <th>cc</th>\n",
              "      <th>city</th>\n",
              "      <th>state</th>\n",
              "      <th>country</th>\n",
              "      <th>formattedAddress</th>\n",
              "      <th>id</th>\n",
              "    </tr>\n",
              "  </thead>\n",
              "  <tbody>\n",
              "    <tr>\n",
              "      <th>0</th>\n",
              "      <td>Windmills Craftworks</td>\n",
              "      <td>Brewery</td>\n",
              "      <td>#331</td>\n",
              "      <td>Road #5B, EPIP Zone, Whitefield</td>\n",
              "      <td>12.982460</td>\n",
              "      <td>77.721861</td>\n",
              "      <td>[{'label': 'display', 'lat': 12.98246025089549...</td>\n",
              "      <td>1266</td>\n",
              "      <td>560048</td>\n",
              "      <td>IN</td>\n",
              "      <td>Bangalore</td>\n",
              "      <td>Karnātaka</td>\n",
              "      <td>India</td>\n",
              "      <td>[#331 (Road #5B, EPIP Zone, Whitefield), Banga...</td>\n",
              "      <td>5056abd4e4b07ba3e77d061b</td>\n",
              "    </tr>\n",
              "    <tr>\n",
              "      <th>1</th>\n",
              "      <td>Masala Chai</td>\n",
              "      <td>Café</td>\n",
              "      <td>Brigade Metropolis</td>\n",
              "      <td>NaN</td>\n",
              "      <td>12.992018</td>\n",
              "      <td>77.702983</td>\n",
              "      <td>[{'label': 'display', 'lat': 12.99201795311745...</td>\n",
              "      <td>1361</td>\n",
              "      <td>NaN</td>\n",
              "      <td>IN</td>\n",
              "      <td>NaN</td>\n",
              "      <td>Karnātaka</td>\n",
              "      <td>India</td>\n",
              "      <td>[Brigade Metropolis, Karnātaka, India]</td>\n",
              "      <td>52d7b826498ec7118d306846</td>\n",
              "    </tr>\n",
              "    <tr>\n",
              "      <th>2</th>\n",
              "      <td>Decathlon Sports India (DSI) HQ</td>\n",
              "      <td>Office</td>\n",
              "      <td>Xylem Building, ITPL Main Road, Whitefield</td>\n",
              "      <td>NaN</td>\n",
              "      <td>12.994772</td>\n",
              "      <td>77.701066</td>\n",
              "      <td>[{'label': 'display', 'lat': 12.99477232652780...</td>\n",
              "      <td>1599</td>\n",
              "      <td>NaN</td>\n",
              "      <td>IN</td>\n",
              "      <td>Bangalore</td>\n",
              "      <td>Karnātaka</td>\n",
              "      <td>India</td>\n",
              "      <td>[Xylem Building, ITPL Main Road, Whitefield, B...</td>\n",
              "      <td>4ffd7b2ae4b0c07a15dc42b3</td>\n",
              "    </tr>\n",
              "    <tr>\n",
              "      <th>3</th>\n",
              "      <td>Decathlon</td>\n",
              "      <td>Sporting Goods Shop</td>\n",
              "      <td>Mahadevapura</td>\n",
              "      <td>ITPL Main Road</td>\n",
              "      <td>12.994830</td>\n",
              "      <td>77.701010</td>\n",
              "      <td>[{'label': 'display', 'lat': 12.99482994819446...</td>\n",
              "      <td>1606</td>\n",
              "      <td>560048</td>\n",
              "      <td>IN</td>\n",
              "      <td>Bangalore</td>\n",
              "      <td>Karnātaka</td>\n",
              "      <td>India</td>\n",
              "      <td>[Mahadevapura (ITPL Main Road), Bangalore 5600...</td>\n",
              "      <td>511f882be4b07e642792e247</td>\n",
              "    </tr>\n",
              "    <tr>\n",
              "      <th>4</th>\n",
              "      <td>Forum Shantiniketan Mall</td>\n",
              "      <td>Shopping Mall</td>\n",
              "      <td>Prestige Shantiniketan</td>\n",
              "      <td>NaN</td>\n",
              "      <td>12.989626</td>\n",
              "      <td>77.728220</td>\n",
              "      <td>[{'label': 'display', 'lat': 12.98962565178195...</td>\n",
              "      <td>1401</td>\n",
              "      <td>560048</td>\n",
              "      <td>IN</td>\n",
              "      <td>Bengaluru South</td>\n",
              "      <td>Karnātaka</td>\n",
              "      <td>India</td>\n",
              "      <td>[Prestige Shantiniketan, Bengaluru South 56004...</td>\n",
              "      <td>5b6d42b8b54618002c6bde07</td>\n",
              "    </tr>\n",
              "    <tr>\n",
              "      <th>5</th>\n",
              "      <td>Biergarten</td>\n",
              "      <td>Brewery</td>\n",
              "      <td>Not found</td>\n",
              "      <td>NaN</td>\n",
              "      <td>12.982449</td>\n",
              "      <td>77.708620</td>\n",
              "      <td>[{'label': 'display', 'lat': 12.98244927136445...</td>\n",
              "      <td>1303</td>\n",
              "      <td>NaN</td>\n",
              "      <td>IN</td>\n",
              "      <td>NaN</td>\n",
              "      <td>NaN</td>\n",
              "      <td>India</td>\n",
              "      <td>[India]</td>\n",
              "      <td>579e2035498e20f50f6b6108</td>\n",
              "    </tr>\n",
              "    <tr>\n",
              "      <th>6</th>\n",
              "      <td>M Cafe (Marriott)</td>\n",
              "      <td>Restaurant</td>\n",
              "      <td>Not found</td>\n",
              "      <td>NaN</td>\n",
              "      <td>12.979192</td>\n",
              "      <td>77.728240</td>\n",
              "      <td>[{'label': 'display', 'lat': 12.97919153643412...</td>\n",
              "      <td>1985</td>\n",
              "      <td>NaN</td>\n",
              "      <td>IN</td>\n",
              "      <td>NaN</td>\n",
              "      <td>NaN</td>\n",
              "      <td>India</td>\n",
              "      <td>[India]</td>\n",
              "      <td>5130dc71e4b00e1a5a3c2ac3</td>\n",
              "    </tr>\n",
              "    <tr>\n",
              "      <th>7</th>\n",
              "      <td>Power Play Sports</td>\n",
              "      <td>Soccer Field</td>\n",
              "      <td>19/1</td>\n",
              "      <td>7th Cross Road, Whitefield</td>\n",
              "      <td>12.975183</td>\n",
              "      <td>77.712850</td>\n",
              "      <td>[{'label': 'display', 'lat': 12.97518295111998...</td>\n",
              "      <td>1897</td>\n",
              "      <td>560066</td>\n",
              "      <td>IN</td>\n",
              "      <td>Bangalore</td>\n",
              "      <td>Karnātaka</td>\n",
              "      <td>India</td>\n",
              "      <td>[19/1 (7th Cross Road, Whitefield), Bangalore ...</td>\n",
              "      <td>4feb49a1e4b0f878206ed3c4</td>\n",
              "    </tr>\n",
              "    <tr>\n",
              "      <th>8</th>\n",
              "      <td>Central Park Clubhouse</td>\n",
              "      <td>Gym / Fitness Center</td>\n",
              "      <td>Prestige Shantinekatan</td>\n",
              "      <td>Whitefield Road</td>\n",
              "      <td>12.994270</td>\n",
              "      <td>77.729227</td>\n",
              "      <td>[{'label': 'display', 'lat': 12.99427040849623...</td>\n",
              "      <td>1505</td>\n",
              "      <td>560048</td>\n",
              "      <td>IN</td>\n",
              "      <td>Bangalore</td>\n",
              "      <td>Karnātaka</td>\n",
              "      <td>India</td>\n",
              "      <td>[Prestige Shantinekatan (Whitefield Road), Ban...</td>\n",
              "      <td>4db41d801e7248d1359a97dc</td>\n",
              "    </tr>\n",
              "    <tr>\n",
              "      <th>9</th>\n",
              "      <td>Oliver's</td>\n",
              "      <td>American Restaurant</td>\n",
              "      <td>Graphite India Road, ITPL Road, Next to Opus</td>\n",
              "      <td>NaN</td>\n",
              "      <td>12.982184</td>\n",
              "      <td>77.708682</td>\n",
              "      <td>[{'label': 'display', 'lat': 12.98218360116131...</td>\n",
              "      <td>1324</td>\n",
              "      <td>560037</td>\n",
              "      <td>IN</td>\n",
              "      <td>Bangalore</td>\n",
              "      <td>Karnātaka</td>\n",
              "      <td>India</td>\n",
              "      <td>[Graphite India Road, ITPL Road, Next to Opus,...</td>\n",
              "      <td>511bb096e4b03a144fba17fe</td>\n",
              "    </tr>\n",
              "  </tbody>\n",
              "</table>\n",
              "</div>"
            ],
            "text/plain": [
              "                              name  ...                        id\n",
              "0             Windmills Craftworks  ...  5056abd4e4b07ba3e77d061b\n",
              "1                      Masala Chai  ...  52d7b826498ec7118d306846\n",
              "2  Decathlon Sports India (DSI) HQ  ...  4ffd7b2ae4b0c07a15dc42b3\n",
              "3                        Decathlon  ...  511f882be4b07e642792e247\n",
              "4         Forum Shantiniketan Mall  ...  5b6d42b8b54618002c6bde07\n",
              "5                       Biergarten  ...  579e2035498e20f50f6b6108\n",
              "6                M Cafe (Marriott)  ...  5130dc71e4b00e1a5a3c2ac3\n",
              "7                Power Play Sports  ...  4feb49a1e4b0f878206ed3c4\n",
              "8           Central Park Clubhouse  ...  4db41d801e7248d1359a97dc\n",
              "9                         Oliver's  ...  511bb096e4b03a144fba17fe\n",
              "\n",
              "[10 rows x 15 columns]"
            ]
          },
          "metadata": {
            "tags": []
          },
          "execution_count": 19
        }
      ]
    },
    {
      "cell_type": "markdown",
      "metadata": {
        "id": "WwMCNp-hX7QX",
        "colab_type": "text"
      },
      "source": [
        "# ***5. Visulization of popular places Nearby***"
      ]
    },
    {
      "cell_type": "code",
      "metadata": {
        "id": "dlt-qO2lX6l7",
        "colab_type": "code",
        "outputId": "7ba98584-36fe-4287-cf6c-c3ffbf3f1735",
        "colab": {
          "base_uri": "https://localhost:8080/",
          "height": 685
        }
      },
      "source": [
        "#Indian Map\n",
        "map = folium.Map(location=[latitude,longitude],zoom_start=14)\n",
        "\n",
        "# adding the current location\n",
        "folium.CircleMarker(location=[latitude,longitude],radius=5,color='red',fill=True,fill_color='red').add_to(map)\n",
        "folium.Marker(location=[latitude,longitude],popup=\"<strong> Current Location</strong>\",icon = folium.Icon(color='red')).add_to(map)\n",
        "\n",
        "#drawing circle with radius provided to search\n",
        "folium.Circle(location=[latitude,longitude],radius=radius,color='blue',opacity=0.5,fill=True,fill_color='blue').add_to(map)\n",
        "map"
      ],
      "execution_count": 0,
      "outputs": [
        {
          "output_type": "execute_result",
          "data": {
            "text/html": [
              "<div style=\"width:100%;\"><div style=\"position:relative;width:100%;height:0;padding-bottom:60%;\"><span style=\"color:#565656\">Make this Notebook Trusted to load map: File -> Trust Notebook</span><iframe src=\"about:blank\" style=\"position:absolute;width:100%;height:100%;left:0;top:0;border:none !important;\" data-html=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 onload=\"this.contentDocument.open();this.contentDocument.write(atob(this.getAttribute('data-html')));this.contentDocument.close();\" allowfullscreen webkitallowfullscreen mozallowfullscreen></iframe></div></div>"
            ],
            "text/plain": [
              "<folium.folium.Map at 0x7f6b8ad44b70>"
            ]
          },
          "metadata": {
            "tags": []
          },
          "execution_count": 36
        }
      ]
    },
    {
      "cell_type": "code",
      "metadata": {
        "id": "nSr-G4OzZZ9p",
        "colab_type": "code",
        "outputId": "3d618477-01f0-41e8-a965-600f5121df4d",
        "colab": {
          "base_uri": "https://localhost:8080/",
          "height": 685
        }
      },
      "source": [
        "for lat,lon,name,cate,addr,dist in zip(nearby.lat,nearby.lng,nearby.name,nearby.categories,nearby.address,nearby.distance):\n",
        "  folium.CircleMarker(location=[lat,lon],radius=5,color=\"red\",fill=True,fill_color='red').add_to(map)\n",
        "  folium.Marker(location=[lat,lon],\n",
        "              popup= folium.Popup(('<strong><font color =\"red\">Name :     </font>'+name+'</strong><br>'+\n",
        "                                   '<strong><font color =\"red\">Categorie :    </font>'+cate+'</strong><br>'+\n",
        "                                   '<strong><font color =\"red\">Address :    </font>'+addr+'</strong><br>'+\n",
        "                                   '<strong><font color =\"red\">Distance :    </font>'+str(dist)+' mts</strong>'\n",
        "                                   ),max_width=250)).add_to(map)\n",
        "\n",
        "map"
      ],
      "execution_count": 0,
      "outputs": [
        {
          "output_type": "execute_result",
          "data": {
            "text/html": [
              "<div style=\"width:100%;\"><div style=\"position:relative;width:100%;height:0;padding-bottom:60%;\"><span style=\"color:#565656\">Make this Notebook Trusted to load map: File -> Trust Notebook</span><iframe src=\"about:blank\" style=\"position:absolute;width:100%;height:100%;left:0;top:0;border:none !important;\" data-html=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 onload=\"this.contentDocument.open();this.contentDocument.write(atob(this.getAttribute('data-html')));this.contentDocument.close();\" allowfullscreen webkitallowfullscreen mozallowfullscreen></iframe></div></div>"
            ],
            "text/plain": [
              "<folium.folium.Map at 0x7f6b8ad44b70>"
            ]
          },
          "metadata": {
            "tags": []
          },
          "execution_count": 37
        }
      ]
    },
    {
      "cell_type": "code",
      "metadata": {
        "id": "YmzFEouRe0wj",
        "colab_type": "code",
        "outputId": "fd6baea1-bb57-43ef-fb71-02cd46bddd13",
        "colab": {
          "base_uri": "https://localhost:8080/",
          "height": 685
        }
      },
      "source": [
        ""
      ],
      "execution_count": 0,
      "outputs": [
        {
          "output_type": "execute_result",
          "data": {
            "text/html": [
              "<div style=\"width:100%;\"><div style=\"position:relative;width:100%;height:0;padding-bottom:60%;\"><span style=\"color:#565656\">Make this Notebook Trusted to load map: File -> Trust Notebook</span><iframe src=\"about:blank\" style=\"position:absolute;width:100%;height:100%;left:0;top:0;border:none !important;\" data-html=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 onload=\"this.contentDocument.open();this.contentDocument.write(atob(this.getAttribute('data-html')));this.contentDocument.close();\" allowfullscreen webkitallowfullscreen mozallowfullscreen></iframe></div></div>"
            ],
            "text/plain": [
              "<folium.folium.Map at 0x7f071f29d7f0>"
            ]
          },
          "metadata": {
            "tags": []
          },
          "execution_count": 28
        }
      ]
    },
    {
      "cell_type": "code",
      "metadata": {
        "id": "aupwPfOJjisw",
        "colab_type": "code",
        "colab": {}
      },
      "source": [
        "map.save('PopularPlacesNearMe.html')"
      ],
      "execution_count": 0,
      "outputs": []
    },
    {
      "cell_type": "code",
      "metadata": {
        "id": "NmcTRClY0_XN",
        "colab_type": "code",
        "colab": {}
      },
      "source": [
        ""
      ],
      "execution_count": 0,
      "outputs": []
    }
  ]
}